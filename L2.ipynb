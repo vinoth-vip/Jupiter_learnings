{
 "cells": [
  {
   "cell_type": "code",
   "execution_count": 1,
   "id": "116e1db7",
   "metadata": {},
   "outputs": [],
   "source": [
    "# Tuples unPacking:\n",
    "\n",
    "stock = [(\"apple\", 100), (\"Mamgo\", 200), (\"Fig\", 250)]"
   ]
  },
  {
   "cell_type": "code",
   "execution_count": 2,
   "id": "7e606b9b",
   "metadata": {},
   "outputs": [
    {
     "data": {
      "text/plain": [
       "list"
      ]
     },
     "execution_count": 2,
     "metadata": {},
     "output_type": "execute_result"
    }
   ],
   "source": [
    "type(stock)"
   ]
  },
  {
   "cell_type": "code",
   "execution_count": 3,
   "id": "52b757a4",
   "metadata": {},
   "outputs": [
    {
     "name": "stdout",
     "output_type": "stream",
     "text": [
      "('apple', 100)\n",
      "('Mamgo', 200)\n",
      "('Fig', 250)\n"
     ]
    }
   ],
   "source": [
    "for sep in stock:\n",
    "    print(sep)"
   ]
  },
  {
   "cell_type": "code",
   "execution_count": 4,
   "id": "89bc0063",
   "metadata": {},
   "outputs": [
    {
     "name": "stdout",
     "output_type": "stream",
     "text": [
      "apple\n",
      "Mamgo\n",
      "Fig\n"
     ]
    }
   ],
   "source": [
    "for fruit,price in stock:\n",
    "    print(fruit)"
   ]
  },
  {
   "cell_type": "code",
   "execution_count": 5,
   "id": "cd26c6dd",
   "metadata": {},
   "outputs": [
    {
     "name": "stdout",
     "output_type": "stream",
     "text": [
      "110.0\n",
      "220.0\n",
      "275.0\n"
     ]
    }
   ],
   "source": [
    "for fruit,price in stock:\n",
    "    print(price+(0.1*price))\n",
    "    "
   ]
  },
  {
   "cell_type": "code",
   "execution_count": 6,
   "id": "15a6793e",
   "metadata": {},
   "outputs": [],
   "source": [
    "work_hours = [(\"venki\", 100), (\"L.K.Gopal\", 400), (\"dinesh\", 266),(\"vk\", 700), (\"Kathir\", 700)]"
   ]
  },
  {
   "cell_type": "code",
   "execution_count": 7,
   "id": "9a7b4ae0",
   "metadata": {},
   "outputs": [],
   "source": [
    "def company(work_hours):\n",
    "    \n",
    "    comp_Maxhours = 0\n",
    "    employee_of_month = ''\n",
    "    \n",
    "    for employee, hour in work_hours:\n",
    "        if hour > comp_Maxhours:\n",
    "            comp_Maxhours = hour\n",
    "            employee_of_month = employee\n",
    "        else:\n",
    "            pass\n",
    "        \n",
    "    \n",
    "\n",
    "    return employee_of_month, comp_Maxhours"
   ]
  },
  {
   "cell_type": "code",
   "execution_count": 8,
   "id": "7ec8c2f4",
   "metadata": {},
   "outputs": [
    {
     "data": {
      "text/plain": [
       "('vk', 700)"
      ]
     },
     "execution_count": 8,
     "metadata": {},
     "output_type": "execute_result"
    }
   ],
   "source": [
    "company(work_hours)"
   ]
  },
  {
   "cell_type": "code",
   "execution_count": 9,
   "id": "f3c138da",
   "metadata": {},
   "outputs": [],
   "source": [
    "name, time = company(work_hours)"
   ]
  },
  {
   "cell_type": "code",
   "execution_count": 10,
   "id": "d932d385",
   "metadata": {},
   "outputs": [
    {
     "data": {
      "text/plain": [
       "'vk'"
      ]
     },
     "execution_count": 10,
     "metadata": {},
     "output_type": "execute_result"
    }
   ],
   "source": [
    "name"
   ]
  },
  {
   "cell_type": "code",
   "execution_count": 11,
   "id": "197b9116",
   "metadata": {},
   "outputs": [
    {
     "data": {
      "text/plain": [
       "700"
      ]
     },
     "execution_count": 11,
     "metadata": {},
     "output_type": "execute_result"
    }
   ],
   "source": [
    "time"
   ]
  },
  {
   "cell_type": "code",
   "execution_count": 12,
   "id": "8bd6ea5c",
   "metadata": {},
   "outputs": [],
   "source": [
    "# shuffle method:\n",
    "\n",
    "example = [1,2,3,4,5,6,7,8]"
   ]
  },
  {
   "cell_type": "code",
   "execution_count": 13,
   "id": "48e818c7",
   "metadata": {},
   "outputs": [],
   "source": [
    "from random import shuffle"
   ]
  },
  {
   "cell_type": "code",
   "execution_count": 14,
   "id": "e9c8250a",
   "metadata": {},
   "outputs": [],
   "source": [
    "result = shuffle(example)"
   ]
  },
  {
   "cell_type": "code",
   "execution_count": 15,
   "id": "7d52b517",
   "metadata": {},
   "outputs": [],
   "source": [
    "result"
   ]
  },
  {
   "cell_type": "code",
   "execution_count": 16,
   "id": "1bfb1403",
   "metadata": {},
   "outputs": [],
   "source": [
    "def shuffle_eg(mylist):\n",
    "    shuffle(mylist)\n",
    "    return mylist\n"
   ]
  },
  {
   "cell_type": "code",
   "execution_count": 17,
   "id": "b6e8e75c",
   "metadata": {},
   "outputs": [],
   "source": [
    "result = shuffle_eg(example)"
   ]
  },
  {
   "cell_type": "code",
   "execution_count": 18,
   "id": "b5c334b0",
   "metadata": {},
   "outputs": [
    {
     "data": {
      "text/plain": [
       "[4, 6, 3, 2, 7, 1, 5, 8]"
      ]
     },
     "execution_count": 18,
     "metadata": {},
     "output_type": "execute_result"
    }
   ],
   "source": [
    "result"
   ]
  },
  {
   "cell_type": "code",
   "execution_count": 19,
   "id": "32287bc8",
   "metadata": {},
   "outputs": [],
   "source": [
    "mylst = ['f', 'k', 's', 'a']"
   ]
  },
  {
   "cell_type": "code",
   "execution_count": 20,
   "id": "be479574",
   "metadata": {},
   "outputs": [],
   "source": [
    "out = shuffle_eg(mylst)"
   ]
  },
  {
   "cell_type": "code",
   "execution_count": 21,
   "id": "95282645",
   "metadata": {},
   "outputs": [
    {
     "data": {
      "text/plain": [
       "['s', 'a', 'k', 'f']"
      ]
     },
     "execution_count": 21,
     "metadata": {},
     "output_type": "execute_result"
    }
   ],
   "source": [
    "out"
   ]
  },
  {
   "cell_type": "code",
   "execution_count": 22,
   "id": "f315868d",
   "metadata": {},
   "outputs": [],
   "source": [
    "def guess_player():\n",
    "    \n",
    "    guess = ''\n",
    "    \n",
    "    while guess not in ['0', '1', '2']:\n",
    "        guess = input(\"pick the correct player: 0, 1 or 2- \")\n",
    "    \n",
    "    return int(guess)"
   ]
  },
  {
   "cell_type": "code",
   "execution_count": 23,
   "id": "0a7557df",
   "metadata": {},
   "outputs": [
    {
     "ename": "NameError",
     "evalue": "name 'guess' is not defined",
     "output_type": "error",
     "traceback": [
      "\u001b[1;31m---------------------------------------------------------------------------\u001b[0m",
      "\u001b[1;31mNameError\u001b[0m                                 Traceback (most recent call last)",
      "Cell \u001b[1;32mIn[23], line 1\u001b[0m\n\u001b[1;32m----> 1\u001b[0m guess\n",
      "\u001b[1;31mNameError\u001b[0m: name 'guess' is not defined"
     ]
    }
   ],
   "source": [
    "guess"
   ]
  },
  {
   "cell_type": "code",
   "execution_count": null,
   "id": "8472a778",
   "metadata": {},
   "outputs": [],
   "source": [
    "guess_player()"
   ]
  },
  {
   "cell_type": "code",
   "execution_count": null,
   "id": "07593cbf",
   "metadata": {},
   "outputs": [],
   "source": [
    "def check_guess(mylist,guess):\n",
    "    if mylist[guess] == 'O':\n",
    "        print(\"Correct!\")\n",
    "    else:\n",
    "        print(\"Wrong!\")\n",
    "        print(mylist)"
   ]
  },
  {
   "cell_type": "code",
   "execution_count": null,
   "id": "763bd3a5",
   "metadata": {},
   "outputs": [],
   "source": [
    "# Initial List:\n",
    "mylist = [' ', 'O', ' ']\n",
    "\n",
    "# Shuffle List:\n",
    "mixedup_list = shuffle_eg(mylist)\n",
    "\n",
    "#User List:\n",
    "guess = guess_player()\n",
    "\n",
    "#Check List:\n",
    "check_guess(mixedup_list, guess)\n"
   ]
  },
  {
   "cell_type": "code",
   "execution_count": null,
   "id": "ae7ed43a",
   "metadata": {},
   "outputs": [],
   "source": [
    "# *args and **kwargs:\n",
    "# we can't able to add the excess of the argument\n",
    "def myfunc(a,b,c,d,e):\n",
    "    return sum((a,b,c,d,e)) * 0.5"
   ]
  },
  {
   "cell_type": "code",
   "execution_count": null,
   "id": "9712b10a",
   "metadata": {},
   "outputs": [],
   "source": [
    "myfunc(100,200,300,400,7)"
   ]
  },
  {
   "cell_type": "code",
   "execution_count": null,
   "id": "6800cbb5",
   "metadata": {},
   "outputs": [],
   "source": [
    "#*args:\n",
    "# we can able to add the value we want\n",
    "# *args return a value in tuple.\n",
    "\n",
    "def myargs(*args):\n",
    "    for item in args:\n",
    "        print(item)\n",
    "#         return sum(item) * 0.5"
   ]
  },
  {
   "cell_type": "code",
   "execution_count": null,
   "id": "b22e928e",
   "metadata": {},
   "outputs": [],
   "source": [
    "myargs(100,200,300,400,700,92)"
   ]
  },
  {
   "cell_type": "code",
   "execution_count": null,
   "id": "ce066aba",
   "metadata": {},
   "outputs": [],
   "source": [
    "# **kwargs:\n",
    "\n",
    "def mykargs(**kwargs):\n",
    "    print(kwargs)\n",
    "    if 'fruit' in kwargs:\n",
    "        print(\"You choosed a {}\".format(kwargs['fruit']))\n",
    "    else:\n",
    "        print(\"I didn't find any fruit\")"
   ]
  },
  {
   "cell_type": "code",
   "execution_count": null,
   "id": "1d791071",
   "metadata": {},
   "outputs": [],
   "source": [
    "mykargs(fruit='apple', veggie='carrot')"
   ]
  },
  {
   "cell_type": "code",
   "execution_count": null,
   "id": "a7c17e09",
   "metadata": {},
   "outputs": [],
   "source": [
    "def mycombo(*args,**kwargs):\n",
    "    print(args)\n",
    "    print(kwargs)\n",
    "    print('I would like to buy {}rs {}'.format(args[0],kwargs['food']))"
   ]
  },
  {
   "cell_type": "code",
   "execution_count": null,
   "id": "06ac8a6a",
   "metadata": {},
   "outputs": [],
   "source": [
    "mycombo(200, 400, 57, food='chicken briyani', fruit='apple', veggie='carrot')"
   ]
  },
  {
   "cell_type": "code",
   "execution_count": null,
   "id": "fb897d90",
   "metadata": {},
   "outputs": [],
   "source": [
    "#map:\n",
    "\n",
    "def square(num):\n",
    "    return num ** 4"
   ]
  },
  {
   "cell_type": "code",
   "execution_count": null,
   "id": "45eb09c0",
   "metadata": {},
   "outputs": [],
   "source": [
    "mydigit = [1,2,3,4,5,6,7,8]"
   ]
  },
  {
   "cell_type": "code",
   "execution_count": null,
   "id": "137cfe10",
   "metadata": {},
   "outputs": [],
   "source": [
    "for item in map(square, mydigit):\n",
    "    print(item)"
   ]
  },
  {
   "cell_type": "code",
   "execution_count": null,
   "id": "8f6e41a7",
   "metadata": {},
   "outputs": [],
   "source": [
    "value = list(map(square, mydigit))"
   ]
  },
  {
   "cell_type": "code",
   "execution_count": null,
   "id": "fcce1de6",
   "metadata": {},
   "outputs": [],
   "source": [
    "value"
   ]
  },
  {
   "cell_type": "code",
   "execution_count": null,
   "id": "e602c050",
   "metadata": {},
   "outputs": [],
   "source": [
    "def lett(mystr):\n",
    "    if len(mystr)%2 == 0:\n",
    "        return 'Hello '+ mystr\n",
    "    else:\n",
    "        return mystr[0]"
   ]
  },
  {
   "cell_type": "code",
   "execution_count": 25,
   "id": "5203dac3",
   "metadata": {},
   "outputs": [],
   "source": [
    "mynames = ['Jane', 'gal', 'taylor', 'daniel']"
   ]
  },
  {
   "cell_type": "code",
   "execution_count": null,
   "id": "a6522433",
   "metadata": {},
   "outputs": [],
   "source": [
    "list(map(lett,mynames))"
   ]
  },
  {
   "cell_type": "code",
   "execution_count": null,
   "id": "5f939e5f",
   "metadata": {},
   "outputs": [],
   "source": [
    "mylt = [\"hello vk\"]"
   ]
  },
  {
   "cell_type": "code",
   "execution_count": null,
   "id": "e7829ce7",
   "metadata": {},
   "outputs": [],
   "source": [
    "mylt"
   ]
  },
  {
   "cell_type": "code",
   "execution_count": null,
   "id": "04ebe365",
   "metadata": {},
   "outputs": [],
   "source": [
    "import numpy as np"
   ]
  },
  {
   "cell_type": "code",
   "execution_count": null,
   "id": "5e93b2c5",
   "metadata": {},
   "outputs": [],
   "source": [
    "arr= np.array([2,5,33,77,1,82,34,6,2,5,24])\n"
   ]
  },
  {
   "cell_type": "code",
   "execution_count": null,
   "id": "7cfab70f",
   "metadata": {},
   "outputs": [],
   "source": [
    "np.sort(arr)"
   ]
  },
  {
   "cell_type": "code",
   "execution_count": null,
   "id": "4d32080e",
   "metadata": {},
   "outputs": [],
   "source": [
    "np.unique(arr)"
   ]
  },
  {
   "cell_type": "code",
   "execution_count": null,
   "id": "dd97893d",
   "metadata": {},
   "outputs": [],
   "source": [
    "np.unique(arr)[::-1]"
   ]
  },
  {
   "cell_type": "code",
   "execution_count": null,
   "id": "1b99e279",
   "metadata": {},
   "outputs": [],
   "source": [
    "a=np.array([[12,3],[44,15]])"
   ]
  },
  {
   "cell_type": "code",
   "execution_count": null,
   "id": "85d2b1f0",
   "metadata": {},
   "outputs": [],
   "source": [
    "a"
   ]
  },
  {
   "cell_type": "code",
   "execution_count": null,
   "id": "5346b615",
   "metadata": {},
   "outputs": [],
   "source": [
    "np.unique(a)"
   ]
  },
  {
   "cell_type": "code",
   "execution_count": null,
   "id": "81656ce9",
   "metadata": {},
   "outputs": [],
   "source": [
    "a.T\n"
   ]
  },
  {
   "cell_type": "markdown",
   "id": "26c101a8",
   "metadata": {},
   "source": [
    "### 1.Filter"
   ]
  },
  {
   "cell_type": "code",
   "execution_count": null,
   "id": "b075e35b",
   "metadata": {},
   "outputs": [],
   "source": [
    "def chk_evn(num):\n",
    "    return num % 2 == 0"
   ]
  },
  {
   "cell_type": "code",
   "execution_count": null,
   "id": "1d8e4f80",
   "metadata": {},
   "outputs": [],
   "source": [
    "mynum = [1,2,3,4,5,6,7,8]"
   ]
  },
  {
   "cell_type": "code",
   "execution_count": null,
   "id": "dcf60bbd",
   "metadata": {},
   "outputs": [],
   "source": [
    "list(filter(chk_evn,mynum))"
   ]
  },
  {
   "cell_type": "code",
   "execution_count": null,
   "id": "dcb84ea9",
   "metadata": {},
   "outputs": [],
   "source": [
    "for n in filter(chk_evn,mynum):\n",
    "    print(n)"
   ]
  },
  {
   "cell_type": "markdown",
   "id": "524eb4d1",
   "metadata": {},
   "source": [
    "### 2.Lambda"
   ]
  },
  {
   "cell_type": "code",
   "execution_count": null,
   "id": "38b4ba3c",
   "metadata": {},
   "outputs": [],
   "source": [
    "sqr = lambda num : num ** 2"
   ]
  },
  {
   "cell_type": "code",
   "execution_count": null,
   "id": "12b1ffab",
   "metadata": {},
   "outputs": [],
   "source": [
    "sqr(5)"
   ]
  },
  {
   "cell_type": "code",
   "execution_count": null,
   "id": "67a86165",
   "metadata": {},
   "outputs": [],
   "source": [
    "def myfunc(n):\n",
    "  return lambda a : a * n\n",
    "\n",
    "mydoubler = myfunc(2)\n",
    "mytripler = myfunc(3)\n",
    "\n",
    "print(mydoubler(11))\n",
    "print(mytripler(11))"
   ]
  },
  {
   "cell_type": "code",
   "execution_count": null,
   "id": "027eb6a2",
   "metadata": {},
   "outputs": [],
   "source": [
    "list(map(lambda num : num ** 2, mynum))"
   ]
  },
  {
   "cell_type": "code",
   "execution_count": null,
   "id": "68f577e2",
   "metadata": {},
   "outputs": [],
   "source": [
    "list(filter(lambda num : num % 2 == 0, mynum))"
   ]
  },
  {
   "cell_type": "code",
   "execution_count": 26,
   "id": "140c73f3",
   "metadata": {},
   "outputs": [
    {
     "data": {
      "text/plain": [
       "['Jane', 'gal', 'taylor', 'daniel']"
      ]
     },
     "execution_count": 26,
     "metadata": {},
     "output_type": "execute_result"
    }
   ],
   "source": [
    "mynames"
   ]
  },
  {
   "cell_type": "code",
   "execution_count": 27,
   "id": "e2a3605c",
   "metadata": {},
   "outputs": [
    {
     "data": {
      "text/plain": [
       "['J', 'g', 't', 'd']"
      ]
     },
     "execution_count": 27,
     "metadata": {},
     "output_type": "execute_result"
    }
   ],
   "source": [
    "list(map(lambda name : name[0], mynames))"
   ]
  },
  {
   "cell_type": "code",
   "execution_count": 29,
   "id": "f3d6d7d4",
   "metadata": {},
   "outputs": [
    {
     "data": {
      "text/plain": [
       "['enaJ', 'lag', 'rolyat', 'leinad']"
      ]
     },
     "execution_count": 29,
     "metadata": {},
     "output_type": "execute_result"
    }
   ],
   "source": [
    "list(map(lambda name : name[::-1], mynames))"
   ]
  },
  {
   "cell_type": "markdown",
   "id": "7ff8c82c",
   "metadata": {},
   "source": [
    "##### Nested Statements and Scopes:works with LEGB rule\n",
    "    L - Local, E - Enclosing function locals, G - Global(module), B - Built-in(Python) \n",
    "    "
   ]
  },
  {
   "cell_type": "code",
   "execution_count": 32,
   "id": "b16dd734",
   "metadata": {},
   "outputs": [],
   "source": [
    "# Global\n",
    "name = \"This is a Global string\"\n",
    "\n",
    "def greet():\n",
    "    # Enclosing local\n",
    "    name = \"VK\"\n",
    "    \n",
    "    def hello():\n",
    "        # Local\n",
    "        name = \"Hari\"\n",
    "        print(\"Hello \" + name)\n",
    "        \n",
    "    hello()\n"
   ]
  },
  {
   "cell_type": "code",
   "execution_count": 33,
   "id": "3f3e3cf5",
   "metadata": {},
   "outputs": [
    {
     "name": "stdout",
     "output_type": "stream",
     "text": [
      "Hello Hari\n"
     ]
    }
   ],
   "source": [
    "greet()"
   ]
  },
  {
   "cell_type": "code",
   "execution_count": 58,
   "id": "d22f4425",
   "metadata": {},
   "outputs": [],
   "source": [
    "x = 50\n",
    "\n",
    "\n",
    "def newfunk():\n",
    "    #executed with global variable\n",
    "    global x\n",
    "    print(f'X is {x}')\n",
    "    \n",
    "    x = \"new value\"\n",
    "    print(f'Real Value of X is {x}')"
   ]
  },
  {
   "cell_type": "code",
   "execution_count": 61,
   "id": "230b1e06",
   "metadata": {},
   "outputs": [
    {
     "name": "stdout",
     "output_type": "stream",
     "text": [
      "X is 50\n",
      "Real Value of X is new value\n"
     ]
    }
   ],
   "source": [
    "newfunk()"
   ]
  },
  {
   "cell_type": "code",
   "execution_count": 60,
   "id": "8c933414",
   "metadata": {},
   "outputs": [
    {
     "data": {
      "text/plain": [
       "50"
      ]
     },
     "execution_count": 60,
     "metadata": {},
     "output_type": "execute_result"
    }
   ],
   "source": [
    "x"
   ]
  },
  {
   "cell_type": "code",
   "execution_count": null,
   "id": "cb6039b3",
   "metadata": {},
   "outputs": [],
   "source": []
  }
 ],
 "metadata": {
  "kernelspec": {
   "display_name": "Python 3 (ipykernel)",
   "language": "python",
   "name": "python3"
  },
  "language_info": {
   "codemirror_mode": {
    "name": "ipython",
    "version": 3
   },
   "file_extension": ".py",
   "mimetype": "text/x-python",
   "name": "python",
   "nbconvert_exporter": "python",
   "pygments_lexer": "ipython3",
   "version": "3.11.5"
  }
 },
 "nbformat": 4,
 "nbformat_minor": 5
}
