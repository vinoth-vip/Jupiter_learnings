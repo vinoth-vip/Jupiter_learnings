{
 "cells": [
  {
   "cell_type": "code",
   "execution_count": 1,
   "id": "88bbe550",
   "metadata": {},
   "outputs": [],
   "source": [
    "mylist = [1,2,3,4]"
   ]
  },
  {
   "cell_type": "code",
   "execution_count": 2,
   "id": "f49c0db0",
   "metadata": {},
   "outputs": [],
   "source": [
    "myset = set()"
   ]
  },
  {
   "cell_type": "code",
   "execution_count": 3,
   "id": "de1e577e",
   "metadata": {},
   "outputs": [
    {
     "data": {
      "text/plain": [
       "set"
      ]
     },
     "execution_count": 3,
     "metadata": {},
     "output_type": "execute_result"
    }
   ],
   "source": [
    "type(myset)"
   ]
  },
  {
   "cell_type": "code",
   "execution_count": 4,
   "id": "3dceb776",
   "metadata": {},
   "outputs": [
    {
     "data": {
      "text/plain": [
       "list"
      ]
     },
     "execution_count": 4,
     "metadata": {},
     "output_type": "execute_result"
    }
   ],
   "source": [
    "type(mylist)"
   ]
  },
  {
   "cell_type": "markdown",
   "id": "9c59f95d",
   "metadata": {},
   "source": [
    "### List of OOPS concepts in Python:"
   ]
  },
  {
   "cell_type": "markdown",
   "id": "dfa54643",
   "metadata": {},
   "source": [
    "* Class, Object, Method\n",
    "* Inheritance\n",
    "* Polymorphism\n",
    "* Data Abstraction\n",
    "* Encapsulation"
   ]
  },
  {
   "cell_type": "markdown",
   "id": "791ca927",
   "metadata": {},
   "source": [
    "### Class:"
   ]
  },
  {
   "cell_type": "markdown",
   "id": "5e6d2f55",
   "metadata": {},
   "source": [
    "__init__:"
   ]
  },
  {
   "cell_type": "markdown",
   "id": "1167998e",
   "metadata": {},
   "source": [
    "* __init__ method in Python is used to initialize objects of a class. It is also called a constructor.\n",
    "* __init__ method is like default constructor in C++ and Java. Constructors are used to initialize the object’s state.\n",
    "* The task of constructors is to initialize(assign values) to the data members of the class when an object of the class is created."
   ]
  },
  {
   "cell_type": "code",
   "execution_count": 61,
   "id": "8618d0a1",
   "metadata": {},
   "outputs": [],
   "source": [
    "class Dog():\n",
    "    \n",
    "    species = \"mammal\"\n",
    "    \n",
    "    def __init__(self, mybreed, name):\n",
    "        \n",
    "        #Attribute\n",
    "        # we take into the argument\n",
    "        #assign it using self.attribute_name\n",
    "        self.my_attribute = mybreed\n",
    "        self.name = name\n",
    "        \n",
    "        #operations/Actions ----> methods\n",
    "        \n",
    "    def bark(self, number):\n",
    "        print(\"WOOF! My name is {} the number is {}\".format(self.name, number))"
   ]
  },
  {
   "cell_type": "code",
   "execution_count": 62,
   "id": "b1069bc3",
   "metadata": {},
   "outputs": [],
   "source": [
    "my_dog = Dog('lab','Brownie')"
   ]
  },
  {
   "cell_type": "code",
   "execution_count": 64,
   "id": "e50f2c8b",
   "metadata": {},
   "outputs": [
    {
     "data": {
      "text/plain": [
       "'lab'"
      ]
     },
     "execution_count": 64,
     "metadata": {},
     "output_type": "execute_result"
    }
   ],
   "source": [
    "my_dog.my_attribute"
   ]
  },
  {
   "cell_type": "code",
   "execution_count": 65,
   "id": "a9475afe",
   "metadata": {},
   "outputs": [
    {
     "data": {
      "text/plain": [
       "'Brownie'"
      ]
     },
     "execution_count": 65,
     "metadata": {},
     "output_type": "execute_result"
    }
   ],
   "source": [
    "my_dog.name"
   ]
  },
  {
   "cell_type": "code",
   "execution_count": 66,
   "id": "6c5795b3",
   "metadata": {},
   "outputs": [
    {
     "name": "stdout",
     "output_type": "stream",
     "text": [
      "WOOF! My name is Brownie the number is 20\n"
     ]
    }
   ],
   "source": [
    "my_dog.bark(20)"
   ]
  },
  {
   "cell_type": "code",
   "execution_count": 67,
   "id": "ae5f688d",
   "metadata": {},
   "outputs": [
    {
     "data": {
      "text/plain": [
       "'mammal'"
      ]
     },
     "execution_count": 67,
     "metadata": {},
     "output_type": "execute_result"
    }
   ],
   "source": [
    "my_dog.species"
   ]
  },
  {
   "cell_type": "markdown",
   "id": "748cd9e4",
   "metadata": {},
   "source": [
    "##### New Example with Circle:"
   ]
  },
  {
   "cell_type": "code",
   "execution_count": 91,
   "id": "7edcd39b",
   "metadata": {},
   "outputs": [],
   "source": [
    "\n",
    "class Circle():\n",
    "    \n",
    "    pi = 3.14\n",
    "    \n",
    "    def __init__(self,radius=1):\n",
    "        \n",
    "        self.radius = radius\n",
    "        self.area = radius*radius*self.pi\n",
    "        \n",
    "    def get_circumference(self):\n",
    "        return self.radius * self.pi * 2"
   ]
  },
  {
   "cell_type": "code",
   "execution_count": 92,
   "id": "fb1ef820",
   "metadata": {},
   "outputs": [],
   "source": [
    "myCir = Circle(30)"
   ]
  },
  {
   "cell_type": "code",
   "execution_count": 93,
   "id": "5329d215",
   "metadata": {},
   "outputs": [
    {
     "data": {
      "text/plain": [
       "30"
      ]
     },
     "execution_count": 93,
     "metadata": {},
     "output_type": "execute_result"
    }
   ],
   "source": [
    "myCir.radius"
   ]
  },
  {
   "cell_type": "code",
   "execution_count": 94,
   "id": "03977b07",
   "metadata": {},
   "outputs": [
    {
     "data": {
      "text/plain": [
       "3.14"
      ]
     },
     "execution_count": 94,
     "metadata": {},
     "output_type": "execute_result"
    }
   ],
   "source": [
    "myCir.pi"
   ]
  },
  {
   "cell_type": "code",
   "execution_count": 95,
   "id": "9d20b42d",
   "metadata": {},
   "outputs": [
    {
     "data": {
      "text/plain": [
       "188.4"
      ]
     },
     "execution_count": 95,
     "metadata": {},
     "output_type": "execute_result"
    }
   ],
   "source": [
    "myCir.get_circumference()"
   ]
  },
  {
   "cell_type": "code",
   "execution_count": 96,
   "id": "44d9d297",
   "metadata": {},
   "outputs": [
    {
     "data": {
      "text/plain": [
       "2826.0"
      ]
     },
     "execution_count": 96,
     "metadata": {},
     "output_type": "execute_result"
    }
   ],
   "source": [
    "myCir.area"
   ]
  },
  {
   "cell_type": "code",
   "execution_count": null,
   "id": "a0e1df21",
   "metadata": {},
   "outputs": [],
   "source": []
  },
  {
   "cell_type": "markdown",
   "id": "33ebd431",
   "metadata": {},
   "source": [
    "### Inheritance:"
   ]
  },
  {
   "cell_type": "markdown",
   "id": "d7dca3f5",
   "metadata": {},
   "source": [
    "* Single Inheritance ----> A to B\n",
    "* Multiple Inheritance ----> A,B to C\n",
    "* Multilevel Inheritance ---> A to B to C\n",
    "* Hierarchical Inheritance ---> A to B,C,D\n",
    "* Hybrid Inheritance ---> A to B,C to D(B,C)"
   ]
  },
  {
   "cell_type": "markdown",
   "id": "bf16b05b",
   "metadata": {},
   "source": [
    "### Single Inheritance:"
   ]
  },
  {
   "cell_type": "markdown",
   "id": "11008f49",
   "metadata": {},
   "source": [
    "Single inheritance enables a derived class to inherit properties from a single parent class, thus enabling code reusability and the addition of new features to existing code."
   ]
  },
  {
   "cell_type": "code",
   "execution_count": 6,
   "id": "83464b67",
   "metadata": {},
   "outputs": [],
   "source": [
    "class Animal():\n",
    "    \n",
    "    def __init__(self):\n",
    "        print(\"Animal Created\")\n",
    "        \n",
    "    def who_am_i(self):\n",
    "        print(\"I am an animal\")\n",
    "        \n",
    "    def eat(self):\n",
    "        print(\"I'm eating\")"
   ]
  },
  {
   "cell_type": "code",
   "execution_count": 13,
   "id": "61e3fc4f",
   "metadata": {},
   "outputs": [],
   "source": [
    "class dog(Animal):\n",
    "    \n",
    "    def __init__(self):\n",
    "        Animal.__init__(self)\n",
    "        print(\"Animal is dog\")\n",
    "        \n",
    "    def who_am_i(self):\n",
    "        print(\"I'm a Dog!\")\n",
    "        \n",
    "    def breed(self):\n",
    "        print(\"German shepherd\")\n",
    "        \n",
    "    def name(self):\n",
    "        print(\"Name is Harry poter\")"
   ]
  },
  {
   "cell_type": "code",
   "execution_count": 14,
   "id": "7f9bf10d",
   "metadata": {},
   "outputs": [
    {
     "name": "stdout",
     "output_type": "stream",
     "text": [
      "Animal Created\n",
      "Animal is dog\n"
     ]
    }
   ],
   "source": [
    "mydog = dog()"
   ]
  },
  {
   "cell_type": "code",
   "execution_count": 15,
   "id": "8c2f9a46",
   "metadata": {},
   "outputs": [
    {
     "name": "stdout",
     "output_type": "stream",
     "text": [
      "I'm a Dog!\n"
     ]
    }
   ],
   "source": [
    "mydog.who_am_i()"
   ]
  },
  {
   "cell_type": "code",
   "execution_count": 7,
   "id": "d5556060",
   "metadata": {},
   "outputs": [
    {
     "name": "stdout",
     "output_type": "stream",
     "text": [
      "Animal Created\n"
     ]
    }
   ],
   "source": [
    "myanimal = Animal()"
   ]
  },
  {
   "cell_type": "code",
   "execution_count": 8,
   "id": "64e28e81",
   "metadata": {},
   "outputs": [
    {
     "name": "stdout",
     "output_type": "stream",
     "text": [
      "I am an animal\n"
     ]
    }
   ],
   "source": [
    "myanimal.who_am_i()"
   ]
  },
  {
   "cell_type": "code",
   "execution_count": 9,
   "id": "2c932cbc",
   "metadata": {},
   "outputs": [
    {
     "name": "stdout",
     "output_type": "stream",
     "text": [
      "I'm eating\n"
     ]
    }
   ],
   "source": [
    "myanimal.eat()"
   ]
  },
  {
   "cell_type": "markdown",
   "id": "424789de",
   "metadata": {},
   "source": [
    "#### Multiple Inheritance: "
   ]
  },
  {
   "cell_type": "markdown",
   "id": "a9a580a5",
   "metadata": {},
   "source": [
    "When a class can be derived from more than one base class this type of inheritance is called multiple inheritances. In multiple inheritances, all the features of the base classes are inherited into the derived class. "
   ]
  },
  {
   "cell_type": "code",
   "execution_count": 17,
   "id": "41b6dc14",
   "metadata": {},
   "outputs": [],
   "source": [
    "# Base class1\n",
    "class Mother:\n",
    "    mothername = \"\"\n",
    " \n",
    "    def mother(self):\n",
    "        print(self.mothername)"
   ]
  },
  {
   "cell_type": "code",
   "execution_count": 19,
   "id": "a8263dfc",
   "metadata": {},
   "outputs": [],
   "source": [
    "# Base class2\n",
    "class Father:\n",
    "    fathername = \"\"\n",
    " \n",
    "    def father(self):\n",
    "        print(self.fathername)"
   ]
  },
  {
   "cell_type": "code",
   "execution_count": 20,
   "id": "c6006cde",
   "metadata": {},
   "outputs": [],
   "source": [
    "# Derived class\n",
    "class Son(Mother, Father):\n",
    "    def parents(self):\n",
    "        print(\"Father :\", self.fathername)\n",
    "        print(\"Mother :\", self.mothername)"
   ]
  },
  {
   "cell_type": "code",
   "execution_count": 22,
   "id": "3c2b3779",
   "metadata": {},
   "outputs": [
    {
     "name": "stdout",
     "output_type": "stream",
     "text": [
      "Father : Leo Das\n",
      "Mother : SITA\n"
     ]
    }
   ],
   "source": [
    "# Driver's code\n",
    "s1 = Son()\n",
    "s1.fathername = \"Leo Das\"\n",
    "s1.mothername = \"SITA\"\n",
    "s1.parents()"
   ]
  },
  {
   "cell_type": "markdown",
   "id": "a1129505",
   "metadata": {},
   "source": [
    "### Multilevel Inheritance :"
   ]
  },
  {
   "cell_type": "markdown",
   "id": "8ea49516",
   "metadata": {},
   "source": [
    "In multilevel inheritance, features of the base class and the derived class are further inherited into the new derived class. This is similar to a relationship representing a child and a grandfather. "
   ]
  },
  {
   "cell_type": "code",
   "execution_count": 23,
   "id": "0f4bff7c",
   "metadata": {},
   "outputs": [],
   "source": [
    "# Base class \n",
    "class Grandfather:\n",
    " \n",
    "    def __init__(self, grandfathername):\n",
    "        self.grandfathername = grandfathername"
   ]
  },
  {
   "cell_type": "code",
   "execution_count": 24,
   "id": "18790f17",
   "metadata": {},
   "outputs": [],
   "source": [
    "# Intermediate class \n",
    "class Father(Grandfather):\n",
    "    def __init__(self, fathername, grandfathername):\n",
    "        self.fathername = fathername\n",
    " \n",
    "        # invoking constructor of Grandfather class\n",
    "        Grandfather.__init__(self, grandfathername)"
   ]
  },
  {
   "cell_type": "code",
   "execution_count": 26,
   "id": "e1979c10",
   "metadata": {},
   "outputs": [],
   "source": [
    "# Derived class\n",
    "class Son(Father):\n",
    "    def __init__(self, sonname, fathername, grandfathername):\n",
    "        self.sonname = sonname\n",
    " \n",
    "        # invoking constructor of Father class\n",
    "        Father.__init__(self, fathername, grandfathername)\n",
    "        \n",
    "    def print_name(self):\n",
    "        print('Grandfather name :', self.grandfathername)\n",
    "        print(\"Father name :\", self.fathername)\n",
    "        print(\"Son name :\", self.sonname)"
   ]
  },
  {
   "cell_type": "code",
   "execution_count": 28,
   "id": "2e731e76",
   "metadata": {},
   "outputs": [
    {
     "name": "stdout",
     "output_type": "stream",
     "text": [
      "Antony Das\n",
      "Grandfather name : Antony Das\n",
      "Father name : Leo Das\n",
      "Son name : Prince\n"
     ]
    }
   ],
   "source": [
    "#  Driver code\n",
    "s1 = Son('Prince', 'Leo Das', 'Antony Das')\n",
    "print(s1.grandfathername)\n",
    "s1.print_name()"
   ]
  },
  {
   "cell_type": "markdown",
   "id": "682c4011",
   "metadata": {},
   "source": [
    "### Hierarchical Inheritance: "
   ]
  },
  {
   "cell_type": "markdown",
   "id": "f6b77e97",
   "metadata": {},
   "source": [
    "When more than one derived class are created from a single base this type of inheritance is called hierarchical inheritance. In this program, we have a parent (base) class and two child (derived) classes."
   ]
  },
  {
   "cell_type": "code",
   "execution_count": 29,
   "id": "e769ecfb",
   "metadata": {},
   "outputs": [],
   "source": [
    "# Base class\n",
    "class Parent:\n",
    "    def func1(self):\n",
    "        print(\"This function is in parent class.\")"
   ]
  },
  {
   "cell_type": "code",
   "execution_count": 30,
   "id": "712c8787",
   "metadata": {},
   "outputs": [],
   "source": [
    "# Derived class1\n",
    "class Child1(Parent):\n",
    "    def func2(self):\n",
    "        print(\"This function is in child 1.\")"
   ]
  },
  {
   "cell_type": "code",
   "execution_count": 31,
   "id": "1a7618ac",
   "metadata": {},
   "outputs": [],
   "source": [
    "# Derivied class2\n",
    "class Child2(Parent):\n",
    "    def func3(self):\n",
    "        print(\"This function is in child 2.\")"
   ]
  },
  {
   "cell_type": "code",
   "execution_count": 32,
   "id": "ee7998c7",
   "metadata": {},
   "outputs": [
    {
     "name": "stdout",
     "output_type": "stream",
     "text": [
      "This function is in parent class.\n",
      "This function is in child 1.\n",
      "This function is in parent class.\n",
      "This function is in child 2.\n"
     ]
    }
   ],
   "source": [
    "# Driver's code\n",
    "object1 = Child1()\n",
    "object2 = Child2()\n",
    "object1.func1()\n",
    "object1.func2()\n",
    "object2.func1()\n",
    "object2.func3()"
   ]
  },
  {
   "cell_type": "markdown",
   "id": "de18e503",
   "metadata": {},
   "source": [
    "### Hybrid Inheritance: "
   ]
  },
  {
   "cell_type": "markdown",
   "id": "d0f07210",
   "metadata": {},
   "source": [
    "Inheritance consisting of multiple types of inheritance is called hybrid inheritance."
   ]
  },
  {
   "cell_type": "code",
   "execution_count": 35,
   "id": "ca30568e",
   "metadata": {},
   "outputs": [
    {
     "name": "stdout",
     "output_type": "stream",
     "text": [
      "This function is in school.\n",
      "This function is in student 1. \n"
     ]
    }
   ],
   "source": [
    "class School:\n",
    "    def func1(self):\n",
    "        print(\"This function is in school.\")\n",
    "\n",
    "\n",
    "class Student1(School):\n",
    "    def func2(self):\n",
    "        print(\"This function is in student 1. \")\n",
    "\n",
    "\n",
    "class Student2(School):\n",
    "    def func3(self):\n",
    "        print(\"This function is in student 2.\")\n",
    "\n",
    "\n",
    "class Student3(Student1, School):\n",
    "    def func4(self):\n",
    "        print(\"This function is in student 3.\")\n",
    "\n",
    "\n",
    "# Driver's code\n",
    "object = Student3()\n",
    "object.func1()\n",
    "object.func2()\n"
   ]
  },
  {
   "cell_type": "markdown",
   "id": "9a2eb498",
   "metadata": {},
   "source": [
    "### Polymorphism:"
   ]
  },
  {
   "cell_type": "code",
   "execution_count": 36,
   "id": "bbe6038d",
   "metadata": {},
   "outputs": [
    {
     "name": "stdout",
     "output_type": "stream",
     "text": [
      "New Delhi is the capital of India.\n",
      "Tamil is the oldest language of India.\n",
      "India is a developing country.\n",
      "Washington, D.C. is the capital of USA.\n",
      "English is the primary language of USA.\n",
      "USA is a developed country.\n"
     ]
    }
   ],
   "source": [
    "class India():\n",
    "    def capital(self):\n",
    "        print(\"New Delhi is the capital of India.\")\n",
    "\n",
    "    def language(self):\n",
    "        print(\"Tamil is the oldest language of India.\")\n",
    "\n",
    "    def type(self):\n",
    "        print(\"India is a developing country.\")\n",
    "\n",
    "class USA():\n",
    "    def capital(self):\n",
    "        print(\"Washington, D.C. is the capital of USA.\")\n",
    "\n",
    "    def language(self):\n",
    "        print(\"English is the primary language of USA.\")\n",
    "\n",
    "    def type(self):\n",
    "        print(\"USA is a developed country.\")\n",
    "\n",
    "obj_ind = India()\n",
    "obj_usa = USA()\n",
    "for country in (obj_ind, obj_usa):\n",
    "    country.capital()\n",
    "    country.language()\n",
    "    country.type()\n"
   ]
  },
  {
   "cell_type": "code",
   "execution_count": null,
   "id": "c238d125",
   "metadata": {},
   "outputs": [],
   "source": []
  }
 ],
 "metadata": {
  "kernelspec": {
   "display_name": "Python 3 (ipykernel)",
   "language": "python",
   "name": "python3"
  },
  "language_info": {
   "codemirror_mode": {
    "name": "ipython",
    "version": 3
   },
   "file_extension": ".py",
   "mimetype": "text/x-python",
   "name": "python",
   "nbconvert_exporter": "python",
   "pygments_lexer": "ipython3",
   "version": "3.11.5"
  }
 },
 "nbformat": 4,
 "nbformat_minor": 5
}
