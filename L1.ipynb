{
 "cells": [
  {
   "cell_type": "code",
   "execution_count": 1,
   "id": "f9910b94",
   "metadata": {},
   "outputs": [],
   "source": [
    "#Dictionories:\n",
    "my_dict = {'key1':'val1', 'key2':'val2'}"
   ]
  },
  {
   "cell_type": "code",
   "execution_count": 2,
   "id": "c446f0b0",
   "metadata": {
    "scrolled": true
   },
   "outputs": [
    {
     "data": {
      "text/plain": [
       "{'key1': 'val1', 'key2': 'val2'}"
      ]
     },
     "execution_count": 2,
     "metadata": {},
     "output_type": "execute_result"
    }
   ],
   "source": [
    "my_dict"
   ]
  },
  {
   "cell_type": "code",
   "execution_count": 3,
   "id": "0307715d",
   "metadata": {},
   "outputs": [
    {
     "data": {
      "text/plain": [
       "'val1'"
      ]
     },
     "execution_count": 3,
     "metadata": {},
     "output_type": "execute_result"
    }
   ],
   "source": [
    "my_dict['key1']"
   ]
  },
  {
   "cell_type": "code",
   "execution_count": 4,
   "id": "9d4ff7d8",
   "metadata": {},
   "outputs": [],
   "source": [
    "my_phone = {'vivo':'y11', 'realme':10, 'LG': 11.0}"
   ]
  },
  {
   "cell_type": "code",
   "execution_count": 5,
   "id": "9dc9b5a9",
   "metadata": {},
   "outputs": [
    {
     "data": {
      "text/plain": [
       "{'vivo': 'y11', 'realme': 10, 'LG': 11.0}"
      ]
     },
     "execution_count": 5,
     "metadata": {},
     "output_type": "execute_result"
    }
   ],
   "source": [
    "my_phone"
   ]
  },
  {
   "cell_type": "code",
   "execution_count": 6,
   "id": "ba7e4086",
   "metadata": {},
   "outputs": [
    {
     "data": {
      "text/plain": [
       "'y11'"
      ]
     },
     "execution_count": 6,
     "metadata": {},
     "output_type": "execute_result"
    }
   ],
   "source": [
    "my_phone['vivo']"
   ]
  },
  {
   "cell_type": "code",
   "execution_count": 7,
   "id": "b4cd08f1",
   "metadata": {},
   "outputs": [],
   "source": [
    "my_phone['redmi'] = 5"
   ]
  },
  {
   "cell_type": "code",
   "execution_count": 8,
   "id": "9b56600d",
   "metadata": {},
   "outputs": [
    {
     "data": {
      "text/plain": [
       "{'vivo': 'y11', 'realme': 10, 'LG': 11.0, 'redmi': 5}"
      ]
     },
     "execution_count": 8,
     "metadata": {},
     "output_type": "execute_result"
    }
   ],
   "source": [
    "my_phone"
   ]
  },
  {
   "cell_type": "code",
   "execution_count": 9,
   "id": "5f6e06de",
   "metadata": {},
   "outputs": [],
   "source": [
    "my_phone['vivo'] = 11"
   ]
  },
  {
   "cell_type": "code",
   "execution_count": 10,
   "id": "2a88af0e",
   "metadata": {},
   "outputs": [
    {
     "data": {
      "text/plain": [
       "{'vivo': 11, 'realme': 10, 'LG': 11.0, 'redmi': 5}"
      ]
     },
     "execution_count": 10,
     "metadata": {},
     "output_type": "execute_result"
    }
   ],
   "source": [
    "my_phone"
   ]
  },
  {
   "cell_type": "code",
   "execution_count": 11,
   "id": "9b70f53e",
   "metadata": {},
   "outputs": [],
   "source": [
    "laptop = {'k1':23, 'k2':[24,54,67], 'k3':{'dell':37, 'lenovo':78}}"
   ]
  },
  {
   "cell_type": "code",
   "execution_count": 12,
   "id": "e99169a2",
   "metadata": {},
   "outputs": [
    {
     "data": {
      "text/plain": [
       "{'k1': 23, 'k2': [24, 54, 67], 'k3': {'dell': 37, 'lenovo': 78}}"
      ]
     },
     "execution_count": 12,
     "metadata": {},
     "output_type": "execute_result"
    }
   ],
   "source": [
    "laptop"
   ]
  },
  {
   "cell_type": "code",
   "execution_count": 15,
   "id": "38226156",
   "metadata": {},
   "outputs": [
    {
     "data": {
      "text/plain": [
       "24"
      ]
     },
     "execution_count": 15,
     "metadata": {},
     "output_type": "execute_result"
    }
   ],
   "source": [
    "laptop['k2'][0]"
   ]
  },
  {
   "cell_type": "code",
   "execution_count": 18,
   "id": "514ef3ae",
   "metadata": {},
   "outputs": [
    {
     "data": {
      "text/plain": [
       "37"
      ]
     },
     "execution_count": 18,
     "metadata": {},
     "output_type": "execute_result"
    }
   ],
   "source": [
    "laptop['k3']['dell']"
   ]
  },
  {
   "cell_type": "code",
   "execution_count": 20,
   "id": "133b8f32",
   "metadata": {},
   "outputs": [],
   "source": [
    "laptop = {'key1':['a','b','c']}"
   ]
  },
  {
   "cell_type": "code",
   "execution_count": 21,
   "id": "d77d2b46",
   "metadata": {},
   "outputs": [
    {
     "data": {
      "text/plain": [
       "['a', 'b', 'c']"
      ]
     },
     "execution_count": 21,
     "metadata": {},
     "output_type": "execute_result"
    }
   ],
   "source": [
    "laptop['key1']"
   ]
  },
  {
   "cell_type": "code",
   "execution_count": 24,
   "id": "ff522c95",
   "metadata": {},
   "outputs": [],
   "source": [
    "mylist = laptop['key1']"
   ]
  },
  {
   "cell_type": "code",
   "execution_count": 25,
   "id": "c308aeec",
   "metadata": {},
   "outputs": [],
   "source": [
    "letter = mylist[2]"
   ]
  },
  {
   "cell_type": "code",
   "execution_count": 26,
   "id": "bcb57e3c",
   "metadata": {},
   "outputs": [
    {
     "data": {
      "text/plain": [
       "'c'"
      ]
     },
     "execution_count": 26,
     "metadata": {},
     "output_type": "execute_result"
    }
   ],
   "source": [
    "letter"
   ]
  },
  {
   "cell_type": "code",
   "execution_count": 27,
   "id": "67d88d23",
   "metadata": {},
   "outputs": [
    {
     "data": {
      "text/plain": [
       "['a', 'b', 'c']"
      ]
     },
     "execution_count": 27,
     "metadata": {},
     "output_type": "execute_result"
    }
   ],
   "source": [
    "mylist"
   ]
  },
  {
   "cell_type": "code",
   "execution_count": 28,
   "id": "32f52cc6",
   "metadata": {},
   "outputs": [
    {
     "data": {
      "text/plain": [
       "'B'"
      ]
     },
     "execution_count": 28,
     "metadata": {},
     "output_type": "execute_result"
    }
   ],
   "source": [
    "laptop['key1'][1].upper()"
   ]
  },
  {
   "cell_type": "code",
   "execution_count": 29,
   "id": "76a19fb8",
   "metadata": {},
   "outputs": [],
   "source": [
    "d = {'key1':100, 'key2':200}"
   ]
  },
  {
   "cell_type": "code",
   "execution_count": 30,
   "id": "74f79704",
   "metadata": {},
   "outputs": [
    {
     "data": {
      "text/plain": [
       "{'key1': 100, 'key2': 200}"
      ]
     },
     "execution_count": 30,
     "metadata": {},
     "output_type": "execute_result"
    }
   ],
   "source": [
    "d"
   ]
  },
  {
   "cell_type": "code",
   "execution_count": 32,
   "id": "f89c62a1",
   "metadata": {},
   "outputs": [],
   "source": [
    "d['key3'] = 300"
   ]
  },
  {
   "cell_type": "code",
   "execution_count": 33,
   "id": "f9ff26e6",
   "metadata": {},
   "outputs": [
    {
     "data": {
      "text/plain": [
       "{'key1': 100, 'key2': 200, 'key3': 300}"
      ]
     },
     "execution_count": 33,
     "metadata": {},
     "output_type": "execute_result"
    }
   ],
   "source": [
    "d"
   ]
  },
  {
   "cell_type": "code",
   "execution_count": 34,
   "id": "b512900a",
   "metadata": {},
   "outputs": [
    {
     "data": {
      "text/plain": [
       "dict_keys(['key1', 'key2', 'key3'])"
      ]
     },
     "execution_count": 34,
     "metadata": {},
     "output_type": "execute_result"
    }
   ],
   "source": [
    "d.keys()"
   ]
  },
  {
   "cell_type": "code",
   "execution_count": 35,
   "id": "1a2ac1ab",
   "metadata": {},
   "outputs": [
    {
     "data": {
      "text/plain": [
       "dict_values([100, 200, 300])"
      ]
     },
     "execution_count": 35,
     "metadata": {},
     "output_type": "execute_result"
    }
   ],
   "source": [
    "d.values()"
   ]
  },
  {
   "cell_type": "code",
   "execution_count": 36,
   "id": "2deb4098",
   "metadata": {},
   "outputs": [
    {
     "data": {
      "text/plain": [
       "dict_items([('key1', 100), ('key2', 200), ('key3', 300)])"
      ]
     },
     "execution_count": 36,
     "metadata": {},
     "output_type": "execute_result"
    }
   ],
   "source": [
    "d.items()"
   ]
  },
  {
   "cell_type": "code",
   "execution_count": 37,
   "id": "61274220",
   "metadata": {},
   "outputs": [
    {
     "data": {
      "text/plain": [
       "{'vivo': 11, 'realme': 10, 'LG': 11.0, 'redmi': 5}"
      ]
     },
     "execution_count": 37,
     "metadata": {},
     "output_type": "execute_result"
    }
   ],
   "source": [
    "my_phone"
   ]
  },
  {
   "cell_type": "code",
   "execution_count": 38,
   "id": "a2305fef",
   "metadata": {},
   "outputs": [
    {
     "data": {
      "text/plain": [
       "dict_values([11, 10, 11.0, 5])"
      ]
     },
     "execution_count": 38,
     "metadata": {},
     "output_type": "execute_result"
    }
   ],
   "source": [
    "my_phone.values()"
   ]
  },
  {
   "cell_type": "code",
   "execution_count": 41,
   "id": "974c7abe",
   "metadata": {},
   "outputs": [
    {
     "ename": "SyntaxError",
     "evalue": "invalid syntax (1753140873.py, line 1)",
     "output_type": "error",
     "traceback": [
      "\u001b[1;36m  Cell \u001b[1;32mIn[41], line 1\u001b[1;36m\u001b[0m\n\u001b[1;33m    my_phone.update(['iphone':10])\u001b[0m\n\u001b[1;37m                             ^\u001b[0m\n\u001b[1;31mSyntaxError\u001b[0m\u001b[1;31m:\u001b[0m invalid syntax\n"
     ]
    }
   ],
   "source": [
    "my_phone.update()"
   ]
  },
  {
   "cell_type": "code",
   "execution_count": 43,
   "id": "7f66e8fb",
   "metadata": {},
   "outputs": [],
   "source": [
    "# Tuples:\n",
    "\n",
    "a = (1,2,3,4,5)"
   ]
  },
  {
   "cell_type": "code",
   "execution_count": 44,
   "id": "d21d568f",
   "metadata": {},
   "outputs": [
    {
     "data": {
      "text/plain": [
       "(1, 2, 3, 4, 5)"
      ]
     },
     "execution_count": 44,
     "metadata": {},
     "output_type": "execute_result"
    }
   ],
   "source": [
    "a"
   ]
  },
  {
   "cell_type": "code",
   "execution_count": 45,
   "id": "5784f3b5",
   "metadata": {},
   "outputs": [
    {
     "data": {
      "text/plain": [
       "tuple"
      ]
     },
     "execution_count": 45,
     "metadata": {},
     "output_type": "execute_result"
    }
   ],
   "source": [
    "type(a)"
   ]
  },
  {
   "cell_type": "code",
   "execution_count": 46,
   "id": "f8b359f6",
   "metadata": {},
   "outputs": [
    {
     "data": {
      "text/plain": [
       "5"
      ]
     },
     "execution_count": 46,
     "metadata": {},
     "output_type": "execute_result"
    }
   ],
   "source": [
    "len(a)"
   ]
  },
  {
   "cell_type": "code",
   "execution_count": 51,
   "id": "ff31478a",
   "metadata": {},
   "outputs": [],
   "source": [
    "b = (3,4,8,5,5,5,5,3,2,0)"
   ]
  },
  {
   "cell_type": "code",
   "execution_count": 52,
   "id": "b7976655",
   "metadata": {},
   "outputs": [
    {
     "data": {
      "text/plain": [
       "4"
      ]
     },
     "execution_count": 52,
     "metadata": {},
     "output_type": "execute_result"
    }
   ],
   "source": [
    "b.count(5)"
   ]
  },
  {
   "cell_type": "code",
   "execution_count": 53,
   "id": "50e46a20",
   "metadata": {},
   "outputs": [
    {
     "data": {
      "text/plain": [
       "3"
      ]
     },
     "execution_count": 53,
     "metadata": {},
     "output_type": "execute_result"
    }
   ],
   "source": [
    "b.index(5)"
   ]
  },
  {
   "cell_type": "code",
   "execution_count": 54,
   "id": "05cea265",
   "metadata": {},
   "outputs": [],
   "source": [
    "lst = [2,4,5,6,3,8]"
   ]
  },
  {
   "cell_type": "code",
   "execution_count": 55,
   "id": "55120ea6",
   "metadata": {},
   "outputs": [
    {
     "data": {
      "text/plain": [
       "[2, 4, 5, 6, 3, 8]"
      ]
     },
     "execution_count": 55,
     "metadata": {},
     "output_type": "execute_result"
    }
   ],
   "source": [
    "lst"
   ]
  },
  {
   "cell_type": "code",
   "execution_count": 56,
   "id": "7b226325",
   "metadata": {},
   "outputs": [
    {
     "data": {
      "text/plain": [
       "list"
      ]
     },
     "execution_count": 56,
     "metadata": {},
     "output_type": "execute_result"
    }
   ],
   "source": [
    "type(lst)"
   ]
  },
  {
   "cell_type": "code",
   "execution_count": 65,
   "id": "c9260bea",
   "metadata": {},
   "outputs": [],
   "source": [
    "# Sets:\n",
    "myset = set()"
   ]
  },
  {
   "cell_type": "code",
   "execution_count": 66,
   "id": "8ad5a236",
   "metadata": {},
   "outputs": [
    {
     "data": {
      "text/plain": [
       "set()"
      ]
     },
     "execution_count": 66,
     "metadata": {},
     "output_type": "execute_result"
    }
   ],
   "source": [
    "myset"
   ]
  },
  {
   "cell_type": "code",
   "execution_count": 67,
   "id": "7da3d459",
   "metadata": {},
   "outputs": [
    {
     "data": {
      "text/plain": [
       "{1}"
      ]
     },
     "execution_count": 67,
     "metadata": {},
     "output_type": "execute_result"
    }
   ],
   "source": [
    "myset.add(1)\n",
    "myset"
   ]
  },
  {
   "cell_type": "code",
   "execution_count": 68,
   "id": "ae35ebd0",
   "metadata": {},
   "outputs": [],
   "source": [
    "myset.add(2)"
   ]
  },
  {
   "cell_type": "code",
   "execution_count": 69,
   "id": "cee46017",
   "metadata": {},
   "outputs": [
    {
     "data": {
      "text/plain": [
       "{1, 2}"
      ]
     },
     "execution_count": 69,
     "metadata": {},
     "output_type": "execute_result"
    }
   ],
   "source": [
    "myset"
   ]
  },
  {
   "cell_type": "code",
   "execution_count": 71,
   "id": "6187348b",
   "metadata": {},
   "outputs": [],
   "source": [
    "myset.add(3)"
   ]
  },
  {
   "cell_type": "code",
   "execution_count": null,
   "id": "ec8255ab",
   "metadata": {},
   "outputs": [],
   "source": [
    "myset.remove(3)"
   ]
  },
  {
   "cell_type": "code",
   "execution_count": 72,
   "id": "fed8a5ba",
   "metadata": {},
   "outputs": [
    {
     "data": {
      "text/plain": [
       "{1, 2, 3}"
      ]
     },
     "execution_count": 72,
     "metadata": {},
     "output_type": "execute_result"
    }
   ],
   "source": [
    "myset\n"
   ]
  },
  {
   "cell_type": "code",
   "execution_count": 76,
   "id": "1b73fcc2",
   "metadata": {},
   "outputs": [],
   "source": [
    "myset.add(5)"
   ]
  },
  {
   "cell_type": "code",
   "execution_count": 85,
   "id": "6c6e3767",
   "metadata": {},
   "outputs": [
    {
     "data": {
      "text/plain": [
       "{1, 2, 3, 5}"
      ]
     },
     "execution_count": 85,
     "metadata": {},
     "output_type": "execute_result"
    }
   ],
   "source": [
    "myset"
   ]
  },
  {
   "cell_type": "code",
   "execution_count": 88,
   "id": "ca0f6951",
   "metadata": {},
   "outputs": [],
   "source": [
    "myst = set(range(0,10))"
   ]
  },
  {
   "cell_type": "code",
   "execution_count": 92,
   "id": "b7c0be1e",
   "metadata": {},
   "outputs": [],
   "source": [
    "myst.add(10)"
   ]
  },
  {
   "cell_type": "code",
   "execution_count": 94,
   "id": "d0ddcf50",
   "metadata": {},
   "outputs": [
    {
     "data": {
      "text/plain": [
       "{0, 1, 2, 3, 4, 5, 6, 7, 8, 9, 10}"
      ]
     },
     "execution_count": 94,
     "metadata": {},
     "output_type": "execute_result"
    }
   ],
   "source": [
    "myst"
   ]
  },
  {
   "cell_type": "code",
   "execution_count": 95,
   "id": "4f8feb34",
   "metadata": {},
   "outputs": [],
   "source": [
    "mylist = [1,1,11,88,2,2,2,3,3,3,3,6,8,66,6,6,6]"
   ]
  },
  {
   "cell_type": "code",
   "execution_count": null,
   "id": "e4af8d4a",
   "metadata": {},
   "outputs": [],
   "source": []
  },
  {
   "cell_type": "code",
   "execution_count": null,
   "id": "a244c50f",
   "metadata": {},
   "outputs": [],
   "source": [
    "mylist"
   ]
  },
  {
   "cell_type": "code",
   "execution_count": 98,
   "id": "7e031cb8",
   "metadata": {},
   "outputs": [],
   "source": [
    "mysett = set(mylist)"
   ]
  },
  {
   "cell_type": "code",
   "execution_count": null,
   "id": "6f583340",
   "metadata": {},
   "outputs": [],
   "source": [
    "mysett."
   ]
  },
  {
   "cell_type": "code",
   "execution_count": null,
   "id": "f1af902d",
   "metadata": {},
   "outputs": [],
   "source": [
    "pwd"
   ]
  },
  {
   "cell_type": "code",
   "execution_count": null,
   "id": "109d9d31",
   "metadata": {},
   "outputs": [],
   "source": [
    "#  Notes: mode 'r' is read only\n",
    "# mode 'w' is write only\n",
    "# mode 'a' is appending only\n",
    "# mode 'r+' is readind and writing\n",
    "# mode 'w+' is writing and reading(Overwrites the existing file or writing a new file)"
   ]
  },
  {
   "cell_type": "code",
   "execution_count": null,
   "id": "5a16129a",
   "metadata": {},
   "outputs": [],
   "source": [
    "# Conditional Statement:\n",
    "\n",
    "# if, elif, else:\n",
    "myphone = input(\"enter your phone brand: \")\n",
    "#'realme 10 pro'\n",
    "\n",
    "if myphone == 'redmi':\n",
    "    print('Hello redmi users')\n",
    "elif myphone == 'honour':\n",
    "    print('Hello Honour users')\n",
    "elif myphone == 'realme 10 pro':\n",
    "    print('Hi realme user')\n",
    "else:\n",
    "    print(\"don't waste your money in Iphone!\")"
   ]
  },
  {
   "cell_type": "code",
   "execution_count": null,
   "id": "b79f15d6",
   "metadata": {},
   "outputs": [],
   "source": [
    "# for loop:\n",
    "\n",
    "places = ['chennai', 'trichy', 'pondy', 'madurai', 'kanchi']"
   ]
  },
  {
   "cell_type": "code",
   "execution_count": null,
   "id": "2224bdf3",
   "metadata": {},
   "outputs": [],
   "source": [
    "for place in places:\n",
    "    print(places)"
   ]
  },
  {
   "cell_type": "code",
   "execution_count": null,
   "id": "b36c0cd6",
   "metadata": {},
   "outputs": [],
   "source": [
    "mynum = [1,2,3,4,5,6,7,8,9,10]"
   ]
  },
  {
   "cell_type": "code",
   "execution_count": null,
   "id": "267f4b31",
   "metadata": {},
   "outputs": [],
   "source": [
    "for mydig in mynum:\n",
    "    if mydig % 2 == 0:\n",
    "        print(\"even number\", mydig)\n",
    "    else:\n",
    "        print(\"odd number\", mydig)"
   ]
  },
  {
   "cell_type": "code",
   "execution_count": null,
   "id": "e7541d14",
   "metadata": {},
   "outputs": [],
   "source": [
    "userval = 0\n",
    "\n",
    "for user in mynum:\n",
    "    userval = userval + user\n",
    "    \n",
    "    print(userval)"
   ]
  },
  {
   "cell_type": "code",
   "execution_count": 99,
   "id": "03aac795",
   "metadata": {},
   "outputs": [],
   "source": [
    "tuplst = [(1,2),(3,4),(4,5),(6,7),(8,9)]"
   ]
  },
  {
   "cell_type": "code",
   "execution_count": 100,
   "id": "84b195da",
   "metadata": {},
   "outputs": [
    {
     "name": "stdout",
     "output_type": "stream",
     "text": [
      "(1, 2)\n",
      "(3, 4)\n",
      "(4, 5)\n",
      "(6, 7)\n",
      "(8, 9)\n"
     ]
    }
   ],
   "source": [
    "for mat in tuplst:\n",
    "    print(mat)"
   ]
  },
  {
   "cell_type": "code",
   "execution_count": 101,
   "id": "a2cf16b3",
   "metadata": {},
   "outputs": [
    {
     "data": {
      "text/plain": [
       "5"
      ]
     },
     "execution_count": 101,
     "metadata": {},
     "output_type": "execute_result"
    }
   ],
   "source": [
    "len(tuplst)"
   ]
  },
  {
   "cell_type": "code",
   "execution_count": 102,
   "id": "b5ede1e2",
   "metadata": {},
   "outputs": [],
   "source": [
    "cnt = [(1,2,3), (3,4,5), (4,5,6), (6,7,8)]"
   ]
  },
  {
   "cell_type": "code",
   "execution_count": 103,
   "id": "e99e9c22",
   "metadata": {},
   "outputs": [
    {
     "name": "stdout",
     "output_type": "stream",
     "text": [
      "2\n",
      "3\n",
      "1\n",
      "4\n",
      "5\n",
      "3\n",
      "5\n",
      "6\n",
      "4\n",
      "7\n",
      "8\n",
      "6\n"
     ]
    }
   ],
   "source": [
    "for a,b,c in cnt:\n",
    "        print(b)\n",
    "        print(c)\n",
    "        print(a)"
   ]
  },
  {
   "cell_type": "code",
   "execution_count": 104,
   "id": "a5c9daf3",
   "metadata": {},
   "outputs": [],
   "source": [
    "dict = {'k1': 3, 'k2': 7, 'k3': 5}"
   ]
  },
  {
   "cell_type": "code",
   "execution_count": 105,
   "id": "75a579bd",
   "metadata": {},
   "outputs": [
    {
     "name": "stdout",
     "output_type": "stream",
     "text": [
      "('k1', 3)\n",
      "('k2', 7)\n",
      "('k3', 5)\n"
     ]
    }
   ],
   "source": [
    "for item in dict.items():\n",
    "    print(item)"
   ]
  },
  {
   "cell_type": "code",
   "execution_count": 108,
   "id": "d3a95261",
   "metadata": {},
   "outputs": [],
   "source": [
    "lst = {'k1':3, 'k2': 4, 'k3': 5}"
   ]
  },
  {
   "cell_type": "code",
   "execution_count": 109,
   "id": "14490301",
   "metadata": {},
   "outputs": [
    {
     "ename": "AttributeError",
     "evalue": "'str' object has no attribute 'values'",
     "output_type": "error",
     "traceback": [
      "\u001b[1;31m---------------------------------------------------------------------------\u001b[0m",
      "\u001b[1;31mAttributeError\u001b[0m                            Traceback (most recent call last)",
      "Cell \u001b[1;32mIn[109], line 2\u001b[0m\n\u001b[0;32m      1\u001b[0m \u001b[38;5;28;01mfor\u001b[39;00m arrr \u001b[38;5;129;01min\u001b[39;00m lst:\n\u001b[1;32m----> 2\u001b[0m     \u001b[38;5;28;01mif\u001b[39;00m arrr\u001b[38;5;241m.\u001b[39mvalues() \u001b[38;5;241m==\u001b[39m \u001b[38;5;241m4\u001b[39m:\n\u001b[0;32m      3\u001b[0m         \u001b[38;5;28mprint\u001b[39m(\u001b[38;5;124m\"\u001b[39m\u001b[38;5;124mHello\u001b[39m\u001b[38;5;124m\"\u001b[39m)\n",
      "\u001b[1;31mAttributeError\u001b[0m: 'str' object has no attribute 'values'"
     ]
    }
   ],
   "source": [
    "for arrr in lst:\n",
    "    if arrr.values() == 4:\n",
    "        print(\"Hello\")"
   ]
  },
  {
   "cell_type": "code",
   "execution_count": 111,
   "id": "ac17dbaf",
   "metadata": {},
   "outputs": [],
   "source": [
    "# Slicing:\n",
    "# [start: stop: step]\n",
    "lst = [1,2,34,5,6,8]"
   ]
  },
  {
   "cell_type": "code",
   "execution_count": 112,
   "id": "9ead3e3e",
   "metadata": {},
   "outputs": [
    {
     "data": {
      "text/plain": [
       "[2, 5, 8]"
      ]
     },
     "execution_count": 112,
     "metadata": {},
     "output_type": "execute_result"
    }
   ],
   "source": [
    "lst[1:6:2]"
   ]
  },
  {
   "cell_type": "code",
   "execution_count": null,
   "id": "0dce95dc",
   "metadata": {},
   "outputs": [],
   "source": [
    "myslic = [1,2,3,4,5,6,7,8,9]"
   ]
  },
  {
   "cell_type": "code",
   "execution_count": null,
   "id": "e87e839c",
   "metadata": {},
   "outputs": [],
   "source": [
    "myslic[-2:]"
   ]
  },
  {
   "cell_type": "code",
   "execution_count": 113,
   "id": "32b533d4",
   "metadata": {},
   "outputs": [
    {
     "name": "stdout",
     "output_type": "stream",
     "text": [
      "the current value of x is 0\n",
      "the current value of x is 1\n",
      "the current value of x is 2\n",
      "the current value of x is 3\n",
      "the current value of x is 4\n"
     ]
    }
   ],
   "source": [
    "# While loop:\n",
    "\n",
    "x = 0\n",
    "\n",
    "while x < 5:\n",
    "    print(f\"the current value of x is {x}\")\n",
    "    x += 1"
   ]
  },
  {
   "cell_type": "code",
   "execution_count": 115,
   "id": "859d6d37",
   "metadata": {},
   "outputs": [
    {
     "name": "stdout",
     "output_type": "stream",
     "text": [
      "1\n",
      "2\n",
      "3\n",
      "4\n",
      "end of the loop\n"
     ]
    }
   ],
   "source": [
    "# break, continue, pass(does nothing at all)\n",
    "x = [1,2,3,4]\n",
    "\n",
    "for i in x:\n",
    "    print(i)\n",
    "    pass\n",
    "\n",
    "print(\"end of the loop\")"
   ]
  },
  {
   "cell_type": "code",
   "execution_count": 119,
   "id": "ab7f79c1",
   "metadata": {},
   "outputs": [
    {
     "name": "stdout",
     "output_type": "stream",
     "text": [
      "v\n",
      "i\n",
      "n\n",
      "o\n",
      "t\n",
      "h\n"
     ]
    }
   ],
   "source": [
    "name = \"vinoth\"\n",
    "\n",
    "for i in name:\n",
    "    if i == \"n\":\n",
    "        continue\n",
    "    print(i)\n",
    "    "
   ]
  },
  {
   "cell_type": "code",
   "execution_count": 120,
   "id": "acf50977",
   "metadata": {},
   "outputs": [
    {
     "name": "stdout",
     "output_type": "stream",
     "text": [
      "v\n",
      "i\n",
      "n\n",
      "o\n"
     ]
    }
   ],
   "source": [
    "mystr = \"vinoth\"\n",
    "\n",
    "for j in mystr:\n",
    "    if j == \"t\":\n",
    "        break\n",
    "    print(j)"
   ]
  },
  {
   "cell_type": "code",
   "execution_count": 121,
   "id": "ce5217d5",
   "metadata": {},
   "outputs": [],
   "source": [
    "# range:\n",
    "\n",
    "blade = [1,2,3,4,5]"
   ]
  },
  {
   "cell_type": "code",
   "execution_count": 122,
   "id": "d21d7da7",
   "metadata": {},
   "outputs": [
    {
     "name": "stdout",
     "output_type": "stream",
     "text": [
      "0\n",
      "2\n",
      "4\n",
      "6\n",
      "8\n"
     ]
    }
   ],
   "source": [
    "for num in range(0,10,2):\n",
    "    print(num)"
   ]
  },
  {
   "cell_type": "code",
   "execution_count": 123,
   "id": "da55d542",
   "metadata": {},
   "outputs": [
    {
     "data": {
      "text/plain": [
       "[0, 2, 4, 6, 8, 10]"
      ]
     },
     "execution_count": 123,
     "metadata": {},
     "output_type": "execute_result"
    }
   ],
   "source": [
    "# list:\n",
    "list(range(0,11,2))"
   ]
  },
  {
   "cell_type": "code",
   "execution_count": 124,
   "id": "f0536c98",
   "metadata": {},
   "outputs": [
    {
     "name": "stdout",
     "output_type": "stream",
     "text": [
      "(1, 'a')\n",
      "(2, 'b')\n",
      "(3, 'c')\n"
     ]
    }
   ],
   "source": [
    "# zip - combine the two list and the list count is excess with other list it will leave the excess values\n",
    "\n",
    "mylst = ['a','b','c']\n",
    "mynum = [1,2,3,4,5,6,7,8]\n",
    "\n",
    "for item in zip(mynum, mylst):\n",
    "    print(item)"
   ]
  },
  {
   "cell_type": "code",
   "execution_count": 125,
   "id": "616ee90a",
   "metadata": {},
   "outputs": [
    {
     "data": {
      "text/plain": [
       "[(1, 'a'), (2, 'b'), (3, 'c')]"
      ]
     },
     "execution_count": 125,
     "metadata": {},
     "output_type": "execute_result"
    }
   ],
   "source": [
    "list(zip(mynum, mylst))"
   ]
  },
  {
   "cell_type": "code",
   "execution_count": 126,
   "id": "1bb55888",
   "metadata": {},
   "outputs": [
    {
     "data": {
      "text/plain": [
       "False"
      ]
     },
     "execution_count": 126,
     "metadata": {},
     "output_type": "execute_result"
    }
   ],
   "source": [
    "# in - keyword:\n",
    "\n",
    "'x' in [1,2,3]"
   ]
  },
  {
   "cell_type": "code",
   "execution_count": 127,
   "id": "70a0ca55",
   "metadata": {},
   "outputs": [
    {
     "data": {
      "text/plain": [
       "True"
      ]
     },
     "execution_count": 127,
     "metadata": {},
     "output_type": "execute_result"
    }
   ],
   "source": [
    "'x' in ['x','y','z']"
   ]
  },
  {
   "cell_type": "code",
   "execution_count": 128,
   "id": "a4e0876a",
   "metadata": {},
   "outputs": [],
   "source": [
    "# min and max\n",
    "\n",
    "varnum = [10,20,30,40,50,60,70,80]"
   ]
  },
  {
   "cell_type": "code",
   "execution_count": 129,
   "id": "37c3e274",
   "metadata": {},
   "outputs": [
    {
     "data": {
      "text/plain": [
       "10"
      ]
     },
     "execution_count": 129,
     "metadata": {},
     "output_type": "execute_result"
    }
   ],
   "source": [
    "min(varnum)"
   ]
  },
  {
   "cell_type": "code",
   "execution_count": 130,
   "id": "82ffad10",
   "metadata": {},
   "outputs": [
    {
     "data": {
      "text/plain": [
       "80"
      ]
     },
     "execution_count": 130,
     "metadata": {},
     "output_type": "execute_result"
    }
   ],
   "source": [
    "max(varnum)"
   ]
  },
  {
   "cell_type": "code",
   "execution_count": 131,
   "id": "508db6d5",
   "metadata": {},
   "outputs": [],
   "source": [
    "# shuffle method in random library:\n",
    "from random import shuffle\n",
    "\n",
    "newl = [1,2,3,4,5,6,7,8,9,10,11,12,13,14]"
   ]
  },
  {
   "cell_type": "code",
   "execution_count": 132,
   "id": "e9318a05",
   "metadata": {},
   "outputs": [],
   "source": [
    "shuffle(newl)"
   ]
  },
  {
   "cell_type": "code",
   "execution_count": 133,
   "id": "ebb3b363",
   "metadata": {},
   "outputs": [
    {
     "data": {
      "text/plain": [
       "[10, 11, 13, 12, 2, 4, 7, 9, 5, 1, 14, 3, 8, 6]"
      ]
     },
     "execution_count": 133,
     "metadata": {},
     "output_type": "execute_result"
    }
   ],
   "source": [
    "newl"
   ]
  },
  {
   "cell_type": "code",
   "execution_count": 137,
   "id": "9419b385",
   "metadata": {},
   "outputs": [],
   "source": [
    "# randint method in random library:\n",
    "from random import randint"
   ]
  },
  {
   "cell_type": "code",
   "execution_count": 139,
   "id": "65e86dbc",
   "metadata": {},
   "outputs": [
    {
     "data": {
      "text/plain": [
       "86"
      ]
     },
     "execution_count": 139,
     "metadata": {},
     "output_type": "execute_result"
    }
   ],
   "source": [
    "randint(0,100)"
   ]
  },
  {
   "cell_type": "code",
   "execution_count": 140,
   "id": "a5ca8bb8",
   "metadata": {},
   "outputs": [],
   "source": [
    "# forloop variations:\n",
    "\n",
    "mystr = 'vanakkam'\n",
    "mtlst = []\n",
    "\n",
    "for letter in mystr:\n",
    "    mtlst.append(letter)"
   ]
  },
  {
   "cell_type": "code",
   "execution_count": 141,
   "id": "90f2abbc",
   "metadata": {},
   "outputs": [
    {
     "data": {
      "text/plain": [
       "['v', 'a', 'n', 'a', 'k', 'k', 'a', 'm']"
      ]
     },
     "execution_count": 141,
     "metadata": {},
     "output_type": "execute_result"
    }
   ],
   "source": [
    "mtlst"
   ]
  },
  {
   "cell_type": "code",
   "execution_count": 142,
   "id": "e061f643",
   "metadata": {},
   "outputs": [],
   "source": [
    "nulst = [alph for alph in mystr]"
   ]
  },
  {
   "cell_type": "code",
   "execution_count": 143,
   "id": "7924ab8e",
   "metadata": {},
   "outputs": [
    {
     "data": {
      "text/plain": [
       "['v', 'a', 'n', 'a', 'k', 'k', 'a', 'm']"
      ]
     },
     "execution_count": 143,
     "metadata": {},
     "output_type": "execute_result"
    }
   ],
   "source": [
    "nulst"
   ]
  },
  {
   "cell_type": "code",
   "execution_count": null,
   "id": "aaf580ff",
   "metadata": {},
   "outputs": [],
   "source": [
    "myx = [x for x in 'word']"
   ]
  },
  {
   "cell_type": "code",
   "execution_count": null,
   "id": "fb99cbe8",
   "metadata": {},
   "outputs": [],
   "source": [
    "myx"
   ]
  },
  {
   "cell_type": "code",
   "execution_count": 144,
   "id": "e6fe8265",
   "metadata": {},
   "outputs": [],
   "source": [
    "hell = [num**2 for num in range(0,5)]"
   ]
  },
  {
   "cell_type": "code",
   "execution_count": 145,
   "id": "96214bd7",
   "metadata": {},
   "outputs": [
    {
     "data": {
      "text/plain": [
       "[0, 1, 4, 9, 16]"
      ]
     },
     "execution_count": 145,
     "metadata": {},
     "output_type": "execute_result"
    }
   ],
   "source": [
    "hell"
   ]
  },
  {
   "cell_type": "code",
   "execution_count": null,
   "id": "a71ad6be",
   "metadata": {},
   "outputs": [],
   "source": [
    "conlst = [j for j in range(0,8) if j%2==0]"
   ]
  },
  {
   "cell_type": "code",
   "execution_count": null,
   "id": "3de0dafa",
   "metadata": {},
   "outputs": [],
   "source": [
    "conlst"
   ]
  },
  {
   "cell_type": "code",
   "execution_count": null,
   "id": "963a5297",
   "metadata": {},
   "outputs": [],
   "source": [
    "cont = [j for j in range(0,8)]"
   ]
  },
  {
   "cell_type": "code",
   "execution_count": null,
   "id": "7430159a",
   "metadata": {},
   "outputs": [],
   "source": [
    "cont"
   ]
  },
  {
   "cell_type": "code",
   "execution_count": null,
   "id": "805f6c12",
   "metadata": {},
   "outputs": [],
   "source": [
    "k = [q if q%2==0 else 'ODD' for q in range(0,10)]"
   ]
  },
  {
   "cell_type": "code",
   "execution_count": null,
   "id": "1ff04ad2",
   "metadata": {},
   "outputs": [],
   "source": [
    "k"
   ]
  },
  {
   "cell_type": "code",
   "execution_count": null,
   "id": "362ccca5",
   "metadata": {},
   "outputs": [],
   "source": [
    "mychr = ['a','b','c','d','e']"
   ]
  },
  {
   "cell_type": "code",
   "execution_count": null,
   "id": "d193940e",
   "metadata": {},
   "outputs": [],
   "source": [
    "for i in range(len(mychr)):\n",
    "    print(i)"
   ]
  },
  {
   "cell_type": "code",
   "execution_count": null,
   "id": "1ea41e72",
   "metadata": {},
   "outputs": [],
   "source": []
  }
 ],
 "metadata": {
  "kernelspec": {
   "display_name": "Python 3 (ipykernel)",
   "language": "python",
   "name": "python3"
  },
  "language_info": {
   "codemirror_mode": {
    "name": "ipython",
    "version": 3
   },
   "file_extension": ".py",
   "mimetype": "text/x-python",
   "name": "python",
   "nbconvert_exporter": "python",
   "pygments_lexer": "ipython3",
   "version": "3.11.5"
  }
 },
 "nbformat": 4,
 "nbformat_minor": 5
}
